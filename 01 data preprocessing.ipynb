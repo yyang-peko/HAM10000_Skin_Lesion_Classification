{
 "cells": [
  {
   "cell_type": "code",
   "execution_count": 7,
   "id": "a62f8c9e",
   "metadata": {},
   "outputs": [],
   "source": [
    "import numpy as np # linear algebra\n",
    "import pandas as pd # data processing, CSV file I/O (e.g. pd.read_csv)\n",
    "import shutil\n",
    "import cv2\n",
    "from tqdm import tqdm          \n",
    "from random import shuffle\n",
    "from zipfile import ZipFile\n",
    "import glob\n",
    "import matplotlib.pyplot as plt\n",
    "%matplotlib inline\n",
    "\n",
    "from sklearn.model_selection import train_test_split\n",
    "\n",
    "import tensorflow as tf\n",
    "\n",
    "from IPython.core.interactiveshell import InteractiveShell\n",
    "InteractiveShell.ast_node_interactivity = \"all\"\n",
    "\n",
    "import os"
   ]
  },
  {
   "cell_type": "code",
   "execution_count": 8,
   "id": "f3e0a04b",
   "metadata": {},
   "outputs": [],
   "source": [
    "from tflite_model_maker import image_classifier\n",
    "from tflite_model_maker.image_classifier import DataLoader\n",
    "from tflite_model_maker import model_spec\n",
    "from tflite_model_maker.config import ExportFormat\n",
    "from tflite_model_maker.config import QuantizationConfig"
   ]
  },
  {
   "cell_type": "code",
   "execution_count": 11,
   "id": "bba6295a",
   "metadata": {},
   "outputs": [],
   "source": [
    "def get_path(directory):\n",
    "    path = []\n",
    "    for files in os.listdir(directory):\n",
    "        path.append(files)\n",
    "    return path\n",
    "\n",
    "part_1 = get_path('HAM10000_images_part_1')\n",
    "part_2 = get_path('HAM10000_images_part_2')"
   ]
  },
  {
   "cell_type": "code",
   "execution_count": 12,
   "id": "a714f325",
   "metadata": {},
   "outputs": [],
   "source": [
    "df = pd.read_csv('hmnist_28_28_RGB.csv')\n",
    "metadata = pd.read_csv('HAM10000_metadata.csv')"
   ]
  },
  {
   "cell_type": "code",
   "execution_count": 13,
   "id": "054d25ff",
   "metadata": {},
   "outputs": [],
   "source": [
    "def preprocess(folder):\n",
    "    folder_df = pd.DataFrame(folder, columns = ['filename'])\n",
    "    folder_df['image_id']=folder_df['filename'].str.slice(0, -4)\n",
    "    folder_joined = pd.merge(folder_df, metadata, on='image_id', how='inner')[['filename', 'dx']]\n",
    "    return folder_joined"
   ]
  },
  {
   "cell_type": "code",
   "execution_count": 14,
   "id": "7e219ccf",
   "metadata": {},
   "outputs": [],
   "source": [
    "folder_1 = preprocess(part_1)\n",
    "folder_2 = preprocess(part_2)"
   ]
  },
  {
   "cell_type": "code",
   "execution_count": 15,
   "id": "35f4f8d8",
   "metadata": {},
   "outputs": [],
   "source": [
    "dxs = folder_1['dx'].value_counts().index.to_list()"
   ]
  },
  {
   "cell_type": "code",
   "execution_count": 16,
   "id": "7654e458",
   "metadata": {},
   "outputs": [],
   "source": [
    "for i in dxs:\n",
    "    parent_dir = './'\n",
    "    path = os.path.join(parent_dir, i)\n",
    "    os.mkdir(path)"
   ]
  },
  {
   "cell_type": "code",
   "execution_count": 18,
   "id": "ab0e81ab",
   "metadata": {},
   "outputs": [],
   "source": [
    "def move_image(df, part):\n",
    "    files = df['filename']\n",
    "    dxs  = df['dx']\n",
    "    for i in tqdm(range(len(files))):\n",
    "        filename = files[i]\n",
    "        dx = dxs[i]\n",
    "        dest_dir = './' + dx\n",
    "        source_dir = 'HAM10000_images_' + part + '/' + filename\n",
    "        shutil.move(source_dir, dest_dir)\n",
    "    return"
   ]
  },
  {
   "cell_type": "code",
   "execution_count": 19,
   "id": "6f523089",
   "metadata": {},
   "outputs": [
    {
     "name": "stderr",
     "output_type": "stream",
     "text": [
      "100%|██████████| 5000/5000 [00:02<00:00, 1803.36it/s]\n",
      "100%|██████████| 5015/5015 [00:02<00:00, 1728.88it/s]\n"
     ]
    }
   ],
   "source": [
    "move_image(folder_1, 'part_1')\n",
    "move_image(folder_2, 'part_2')"
   ]
  },
  {
   "cell_type": "code",
   "execution_count": 20,
   "id": "17adeeb3",
   "metadata": {},
   "outputs": [],
   "source": [
    "old_names = ['df', 'akiec', 'bkl', 'vasc', 'mel', 'bcc', 'nv']\n",
    "new_names = ['dermatofibroma', \"Bowens_disease\", 'benign_keratoses', 'vascular_lesions', 'melanoma', 'basal_cell_carcinoma', 'melanocytic_nevi']\n",
    "\n",
    "for i in range(len(old_names)):\n",
    "    os.rename('./'+old_names[i], './'+new_names[i])"
   ]
  },
  {
   "cell_type": "code",
   "execution_count": null,
   "id": "df5eecc5",
   "metadata": {},
   "outputs": [],
   "source": []
  }
 ],
 "metadata": {
  "kernelspec": {
   "display_name": "Python 3",
   "language": "python",
   "name": "python3"
  },
  "language_info": {
   "codemirror_mode": {
    "name": "ipython",
    "version": 3
   },
   "file_extension": ".py",
   "mimetype": "text/x-python",
   "name": "python",
   "nbconvert_exporter": "python",
   "pygments_lexer": "ipython3",
   "version": "3.7.11"
  }
 },
 "nbformat": 4,
 "nbformat_minor": 5
}
