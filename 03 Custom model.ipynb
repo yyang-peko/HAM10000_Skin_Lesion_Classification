{
 "cells": [
  {
   "cell_type": "code",
   "execution_count": 16,
   "id": "4c96fc51",
   "metadata": {},
   "outputs": [],
   "source": [
    "import tensorflow as tf\n",
    "from tensorflow.keras.callbacks import ReduceLROnPlateau, ModelCheckpoint, EarlyStopping\n",
    "from imblearn.over_sampling import RandomOverSampler, SMOTE\n",
    "from tensorflow.keras.preprocessing.image import ImageDataGenerator, array_to_img, img_to_array, load_img\n",
    "from tensorflow.keras.utils import to_categorical\n",
    "from tensorflow import keras\n",
    "\n",
    "import pandas as pd\n",
    "import numpy as np\n",
    "import matplotlib.pyplot as plt \n",
    "import seaborn as sns\n",
    "\n",
    "from tqdm import tqdm\n",
    "\n",
    "from sklearn.model_selection import *\n",
    "from sklearn.metrics import *\n",
    "from sklearn.preprocessing import *\n",
    "from sklearn.pipeline import Pipeline\n",
    "\n",
    "from tensorflow.keras import Input, Model\n",
    "from tensorflow.keras.regularizers import l2\n",
    "from tensorflow.keras.applications import ResNet50\n",
    "from tensorflow.keras.applications.resnet50 import preprocess_input\n",
    "\n",
    "from tensorflow.keras.models import Sequential\n",
    "from tensorflow.keras.layers import Dense, Dropout, Flatten, Conv2D, BatchNormalization, MaxPool2D\n",
    "\n",
    "from mlxtend import evaluate, plotting\n",
    "from IPython.core.interactiveshell import InteractiveShell\n",
    "InteractiveShell.ast_node_interactivity = \"all\""
   ]
  },
  {
   "cell_type": "code",
   "execution_count": 17,
   "id": "69236689",
   "metadata": {},
   "outputs": [
    {
     "name": "stdout",
     "output_type": "stream",
     "text": [
      "Shape of Data : (46935, 28, 28, 3)\n"
     ]
    }
   ],
   "source": [
    "dataSet = pd.read_csv(\"hmnist_28_28_RGB.csv\")\n",
    "\n",
    "Label = dataSet[\"label\"]\n",
    "Data = dataSet.drop(columns=[\"label\"]) \n",
    "\n",
    "\n",
    "oversample = SMOTE()\n",
    "Data,Label  = oversample.fit_resample(Data,Label)\n",
    "\n",
    "\n",
    "Data = np.array(Data).reshape(-1,28,28,3)\n",
    "print('Shape of Data :',Data.shape)"
   ]
  },
  {
   "cell_type": "code",
   "execution_count": 18,
   "id": "e05e80af",
   "metadata": {},
   "outputs": [],
   "source": [
    "classes = {4: ('nv', ' melanocytic nevi'),\n",
    "           6: ('mel', 'melanoma'),\n",
    "           2 :('bkl', 'benign keratosis-like lesions'), \n",
    "           1:('bcc' , ' basal cell carcinoma'),\n",
    "           5: ('vasc', ' pyogenic granulomas and hemorrhage'),\n",
    "           0: ('akiec', 'Actinic keratoses and intraepithelial carcinomae'),\n",
    "           3: ('df', 'dermatofibroma')}"
   ]
  },
  {
   "cell_type": "code",
   "execution_count": 19,
   "id": "cc77c73b",
   "metadata": {},
   "outputs": [],
   "source": [
    "X_train , X_test , y_train , y_test = train_test_split(Data , Label , test_size = 0.3 , random_state = 42, stratify=Label)"
   ]
  },
  {
   "cell_type": "code",
   "execution_count": 20,
   "id": "4e6c408c",
   "metadata": {},
   "outputs": [],
   "source": [
    "y_train = to_categorical(y_train)\n",
    "y_test = to_categorical(y_test)"
   ]
  },
  {
   "cell_type": "code",
   "execution_count": 21,
   "id": "dfa6fe23",
   "metadata": {},
   "outputs": [],
   "source": [
    "datagen = ImageDataGenerator(rescale=(1./255)\n",
    "                             ,rotation_range=10\n",
    "                             ,zoom_range = 0.1\n",
    "                             ,width_shift_range=0.1\n",
    "                             ,height_shift_range=0.1\n",
    "                             ,horizontal_flip = True\n",
    "                             ,fill_mode='nearest')\n",
    "testgen = ImageDataGenerator(rescale=(1./255))"
   ]
  },
  {
   "cell_type": "code",
   "execution_count": 22,
   "id": "e2547b60",
   "metadata": {},
   "outputs": [],
   "source": [
    "learning_rate_reduction = ReduceLROnPlateau(monitor='val_accuracy'\n",
    "                                            , patience = 2\n",
    "                                            , verbose=1\n",
    "                                            ,factor=0.5\n",
    "                                            , min_lr=0.00001)\n",
    "\n",
    "saved_model = 'manual_CNN.hdf5'\n",
    "\n",
    "checkpointer = ModelCheckpoint(filepath = saved_model, save_best_only = True, save_weights_only = True)"
   ]
  },
  {
   "cell_type": "code",
   "execution_count": 23,
   "id": "d3954986",
   "metadata": {},
   "outputs": [],
   "source": [
    "def My_Model():\n",
    "    input_ = keras.layers.Input(shape = [28,28,3])\n",
    "    x = keras.layers.Conv2D(32 , (3,3) , activation='relu',padding='same' , kernel_initializer='he_normal')(input_)\n",
    "    x = keras.layers.MaxPooling2D()(x)\n",
    "    x = keras.layers.BatchNormalization()(x)\n",
    "    x = keras.layers.Conv2D(64 , (3,3) , activation='relu',padding='same' , kernel_initializer='he_normal')(x)\n",
    "    x = keras.layers.Conv2D(64 , (3,3) , activation='relu',padding='same' , kernel_initializer='he_normal')(x)\n",
    "    x = keras.layers.MaxPooling2D()(x)\n",
    "    x = keras.layers.BatchNormalization()(x)\n",
    "    x = keras.layers.Conv2D(128 , (3,3) , activation='relu',padding='same' , kernel_initializer='he_normal')(x)\n",
    "    x = keras.layers.Conv2D(128 , (3,3) , activation='relu',padding='same' , kernel_initializer='he_normal')(x)\n",
    "    x = keras.layers.MaxPooling2D()(x)\n",
    "    x = keras.layers.BatchNormalization()(x)\n",
    "    x = keras.layers.Conv2D(256 , (3,3) , activation='relu' ,padding='same', kernel_initializer='he_normal')(x)\n",
    "    x = keras.layers.Conv2D(256 , (3,3) , activation='relu' ,padding='same', kernel_initializer='he_normal')(x)\n",
    "    x = keras.layers.MaxPooling2D()(x)\n",
    "    flatten  = keras.layers.Flatten()(x)\n",
    "    classifier = keras.layers.Dropout(rate = 0.2)(flatten)\n",
    "    classifier = keras.layers.Dense(units = 256 , activation = 'relu' , kernel_initializer = 'he_normal')(classifier)\n",
    "    classifier = keras.layers.BatchNormalization()(classifier)\n",
    "    classifier = keras.layers.Dense(units = 128 , activation = 'relu' , kernel_initializer = 'he_normal')(classifier)\n",
    "    classifier = keras.layers.BatchNormalization()(classifier)\n",
    "    classifier = keras.layers.Dense(units = 64 , activation = 'relu' , kernel_initializer = 'he_normal')(classifier)\n",
    "    classifier = keras.layers.BatchNormalization()(classifier) \n",
    "    classifier = keras.layers.Dense(units = 32 , activation = 'relu' , kernel_initializer = 'he_normal' , kernel_regularizer=keras.regularizers.L1L2())(classifier)\n",
    "    classifier = keras.layers.BatchNormalization()(classifier) \n",
    "    classifier = keras.layers.Dense(units = 7 , activation='softmax' ,kernel_initializer=\"glorot_uniform\" , name = 'classifier')(classifier)\n",
    "\n",
    "    return keras.models.Model(inputs = input_  ,outputs =  classifier  )"
   ]
  },
  {
   "cell_type": "code",
   "execution_count": 24,
   "id": "55ce3e96",
   "metadata": {},
   "outputs": [],
   "source": [
    "model = My_Model()"
   ]
  },
  {
   "cell_type": "code",
   "execution_count": 25,
   "id": "d43a7f9b",
   "metadata": {},
   "outputs": [
    {
     "name": "stdout",
     "output_type": "stream",
     "text": [
      "Model: \"model_1\"\n",
      "_________________________________________________________________\n",
      " Layer (type)                Output Shape              Param #   \n",
      "=================================================================\n",
      " input_2 (InputLayer)        [(None, 28, 28, 3)]       0         \n",
      "                                                                 \n",
      " conv2d_7 (Conv2D)           (None, 28, 28, 32)        896       \n",
      "                                                                 \n",
      " max_pooling2d_4 (MaxPooling  (None, 14, 14, 32)       0         \n",
      " 2D)                                                             \n",
      "                                                                 \n",
      " batch_normalization_7 (Batc  (None, 14, 14, 32)       128       \n",
      " hNormalization)                                                 \n",
      "                                                                 \n",
      " conv2d_8 (Conv2D)           (None, 14, 14, 64)        18496     \n",
      "                                                                 \n",
      " conv2d_9 (Conv2D)           (None, 14, 14, 64)        36928     \n",
      "                                                                 \n",
      " max_pooling2d_5 (MaxPooling  (None, 7, 7, 64)         0         \n",
      " 2D)                                                             \n",
      "                                                                 \n",
      " batch_normalization_8 (Batc  (None, 7, 7, 64)         256       \n",
      " hNormalization)                                                 \n",
      "                                                                 \n",
      " conv2d_10 (Conv2D)          (None, 7, 7, 128)         73856     \n",
      "                                                                 \n",
      " conv2d_11 (Conv2D)          (None, 7, 7, 128)         147584    \n",
      "                                                                 \n",
      " max_pooling2d_6 (MaxPooling  (None, 3, 3, 128)        0         \n",
      " 2D)                                                             \n",
      "                                                                 \n",
      " batch_normalization_9 (Batc  (None, 3, 3, 128)        512       \n",
      " hNormalization)                                                 \n",
      "                                                                 \n",
      " conv2d_12 (Conv2D)          (None, 3, 3, 256)         295168    \n",
      "                                                                 \n",
      " conv2d_13 (Conv2D)          (None, 3, 3, 256)         590080    \n",
      "                                                                 \n",
      " max_pooling2d_7 (MaxPooling  (None, 1, 1, 256)        0         \n",
      " 2D)                                                             \n",
      "                                                                 \n",
      " flatten_1 (Flatten)         (None, 256)               0         \n",
      "                                                                 \n",
      " dropout_1 (Dropout)         (None, 256)               0         \n",
      "                                                                 \n",
      " dense_4 (Dense)             (None, 256)               65792     \n",
      "                                                                 \n",
      " batch_normalization_10 (Bat  (None, 256)              1024      \n",
      " chNormalization)                                                \n",
      "                                                                 \n",
      " dense_5 (Dense)             (None, 128)               32896     \n",
      "                                                                 \n",
      " batch_normalization_11 (Bat  (None, 128)              512       \n",
      " chNormalization)                                                \n",
      "                                                                 \n",
      " dense_6 (Dense)             (None, 64)                8256      \n",
      "                                                                 \n",
      " batch_normalization_12 (Bat  (None, 64)               256       \n",
      " chNormalization)                                                \n",
      "                                                                 \n",
      " dense_7 (Dense)             (None, 32)                2080      \n",
      "                                                                 \n",
      " batch_normalization_13 (Bat  (None, 32)               128       \n",
      " chNormalization)                                                \n",
      "                                                                 \n",
      " classifier (Dense)          (None, 7)                 231       \n",
      "                                                                 \n",
      "=================================================================\n",
      "Total params: 1,275,079\n",
      "Trainable params: 1,273,671\n",
      "Non-trainable params: 1,408\n",
      "_________________________________________________________________\n"
     ]
    }
   ],
   "source": [
    "model.summary()"
   ]
  },
  {
   "cell_type": "code",
   "execution_count": 28,
   "id": "ed7bf1ed",
   "metadata": {},
   "outputs": [],
   "source": [
    "model.compile(optimizer='adam' , loss = keras.losses.CategoricalCrossentropy() ,metrics = ['accuracy'])"
   ]
  },
  {
   "cell_type": "code",
   "execution_count": 29,
   "id": "575d16ad",
   "metadata": {},
   "outputs": [
    {
     "name": "stdout",
     "output_type": "stream",
     "text": [
      "Epoch 1/10\n",
      "257/257 [==============================] - 38s 144ms/step - loss: 0.9502 - accuracy: 0.6563 - val_loss: 0.7701 - val_accuracy: 0.7428 - lr: 0.0010\n",
      "Epoch 2/10\n",
      "257/257 [==============================] - 36s 142ms/step - loss: 0.4308 - accuracy: 0.8472 - val_loss: 0.4835 - val_accuracy: 0.8165 - lr: 0.0010\n",
      "Epoch 3/10\n",
      "257/257 [==============================] - 36s 141ms/step - loss: 0.2919 - accuracy: 0.8939 - val_loss: 0.4840 - val_accuracy: 0.8364 - lr: 0.0010\n",
      "Epoch 4/10\n",
      "257/257 [==============================] - 36s 141ms/step - loss: 0.2091 - accuracy: 0.9269 - val_loss: 0.8599 - val_accuracy: 0.7567 - lr: 0.0010\n",
      "Epoch 5/10\n",
      "257/257 [==============================] - 36s 141ms/step - loss: 0.1702 - accuracy: 0.9399 - val_loss: 0.4341 - val_accuracy: 0.8624 - lr: 0.0010\n",
      "Epoch 6/10\n",
      "257/257 [==============================] - 36s 141ms/step - loss: 0.1434 - accuracy: 0.9494 - val_loss: 0.3609 - val_accuracy: 0.8717 - lr: 0.0010\n",
      "Epoch 7/10\n",
      "257/257 [==============================] - 36s 141ms/step - loss: 0.1160 - accuracy: 0.9594 - val_loss: 0.2664 - val_accuracy: 0.9092 - lr: 0.0010\n",
      "Epoch 8/10\n",
      "257/257 [==============================] - 36s 139ms/step - loss: 0.0923 - accuracy: 0.9693 - val_loss: 0.2703 - val_accuracy: 0.9165 - lr: 0.0010\n",
      "Epoch 9/10\n",
      "257/257 [==============================] - 36s 141ms/step - loss: 0.0775 - accuracy: 0.9740 - val_loss: 0.2569 - val_accuracy: 0.9196 - lr: 0.0010\n",
      "Epoch 10/10\n",
      "257/257 [==============================] - 36s 141ms/step - loss: 0.0654 - accuracy: 0.9768 - val_loss: 0.2596 - val_accuracy: 0.9127 - lr: 0.0010\n"
     ]
    }
   ],
   "source": [
    "history = model.fit(X_train ,\n",
    "                    y_train ,\n",
    "                    epochs=10 ,\n",
    "                    batch_size=128,\n",
    "                    validation_data=(X_test , y_test) ,\n",
    "                    callbacks=[learning_rate_reduction, checkpointer])"
   ]
  },
  {
   "cell_type": "code",
   "execution_count": 30,
   "id": "4b7f9fca",
   "metadata": {},
   "outputs": [
    {
     "data": {
      "text/plain": [
       "[<matplotlib.lines.Line2D at 0x283a99b77c8>]"
      ]
     },
     "execution_count": 30,
     "metadata": {},
     "output_type": "execute_result"
    },
    {
     "data": {
      "text/plain": [
       "[<matplotlib.lines.Line2D at 0x2839a08cfc8>]"
      ]
     },
     "execution_count": 30,
     "metadata": {},
     "output_type": "execute_result"
    },
    {
     "data": {
      "text/plain": [
       "<matplotlib.legend.Legend at 0x283a945ff08>"
      ]
     },
     "execution_count": 30,
     "metadata": {},
     "output_type": "execute_result"
    },
    {
     "data": {
      "image/png": "[encoded data removed]",
      "text/plain": [
       "<Figure size 432x288 with 1 Axes>"
      ]
     },
     "metadata": {
      "needs_background": "light"
     },
     "output_type": "display_data"
    }
   ],
   "source": [
    "plt.plot(history.history[\"accuracy\"] , 'ro-' , label = \"Training Accuracy\")\n",
    "plt.plot(history.history[\"val_accuracy\"] , 'go-' , label = \"Testing Accuracy\")\n",
    "plt.legend()\n",
    "plt.show()"
   ]
  },
  {
   "cell_type": "code",
   "execution_count": 31,
   "id": "2e2326b0",
   "metadata": {},
   "outputs": [
    {
     "data": {
      "text/plain": [
       "[<matplotlib.lines.Line2D at 0x28388104e48>]"
      ]
     },
     "execution_count": 31,
     "metadata": {},
     "output_type": "execute_result"
    },
    {
     "data": {
      "text/plain": [
       "[<matplotlib.lines.Line2D at 0x283880db6c8>]"
      ]
     },
     "execution_count": 31,
     "metadata": {},
     "output_type": "execute_result"
    },
    {
     "data": {
      "text/plain": [
       "<matplotlib.legend.Legend at 0x283f80adf48>"
      ]
     },
     "execution_count": 31,
     "metadata": {},
     "output_type": "execute_result"
    },
    {
     "data": {
      "image/png": "[encoded data removed]",
      "text/plain": [
       "<Figure size 432x288 with 1 Axes>"
      ]
     },
     "metadata": {
      "needs_background": "light"
     },
     "output_type": "display_data"
    }
   ],
   "source": [
    "plt.plot(history.history[\"loss\"] , 'ro-' , label = \"Training Loss\")\n",
    "plt.plot(history.history[\"val_loss\"] , 'go-' , label = \"Testing Loss\")\n",
    "plt.legend()\n",
    "plt.show()"
   ]
  },
  {
   "cell_type": "code",
   "execution_count": 32,
   "id": "8ae284f3",
   "metadata": {},
   "outputs": [],
   "source": [
    "y_pred  = model.predict(X_test).round()"
   ]
  },
  {
   "cell_type": "code",
   "execution_count": 33,
   "id": "7535d8d5",
   "metadata": {},
   "outputs": [
    {
     "name": "stdout",
     "output_type": "stream",
     "text": [
      "                                                               precision    recall  f1-score   support\n",
      "\n",
      "('akiec', 'Actinic keratoses and intraepithelial carcinomae')       0.96      0.97      0.96      2011\n",
      "                             ('bcc', ' basal cell carcinoma')       0.99      0.90      0.94      2011\n",
      "                     ('bkl', 'benign keratosis-like lesions')       0.94      0.82      0.87      2012\n",
      "                                     ('df', 'dermatofibroma')       0.98      0.99      0.99      2012\n",
      "                                  ('nv', ' melanocytic nevi')       0.73      0.87      0.80      2012\n",
      "              ('vasc', ' pyogenic granulomas and hemorrhage')       0.98      1.00      0.99      2011\n",
      "                                          ('mel', 'melanoma')       0.89      0.82      0.85      2012\n",
      "\n",
      "                                                    micro avg       0.92      0.91      0.91     14081\n",
      "                                                    macro avg       0.92      0.91      0.91     14081\n",
      "                                                 weighted avg       0.92      0.91      0.91     14081\n",
      "                                                  samples avg       0.91      0.91      0.91     14081\n",
      "\n"
     ]
    },
    {
     "name": "stderr",
     "output_type": "stream",
     "text": [
      "C:\\Users\\Tau\\AppData\\Roaming\\Python\\Python37\\site-packages\\sklearn\\metrics\\_classification.py:1308: UndefinedMetricWarning: Precision and F-score are ill-defined and being set to 0.0 in samples with no predicted labels. Use `zero_division` parameter to control this behavior.\n",
      "  _warn_prf(average, modifier, msg_start, len(result))\n"
     ]
    }
   ],
   "source": [
    "target_names = [f\"{classes[i]}\" for i in range(7)]\n",
    "print(classification_report(y_test , y_pred , target_names =target_names ))"
   ]
  },
  {
   "cell_type": "code",
   "execution_count": 34,
   "id": "f847ee04",
   "metadata": {},
   "outputs": [
    {
     "data": {
      "text/plain": [
       "<Figure size 720x720 with 0 Axes>"
      ]
     },
     "execution_count": 34,
     "metadata": {},
     "output_type": "execute_result"
    },
    {
     "data": {
      "text/plain": [
       "<AxesSubplot:>"
      ]
     },
     "execution_count": 34,
     "metadata": {},
     "output_type": "execute_result"
    },
    {
     "data": {
      "image/png": "[encoded data removed]",
      "text/plain": [
       "<Figure size 720x720 with 2 Axes>"
      ]
     },
     "metadata": {
      "needs_background": "light"
     },
     "output_type": "display_data"
    }
   ],
   "source": [
    "cm = confusion_matrix(y_test.argmax(axis = 1) , y_pred.argmax(axis = 1))\n",
    "cm = pd.DataFrame(cm , index = [i for i in range(7)] , columns = [i for i in range(7)])\n",
    "plt.figure(figsize = (10,10))\n",
    "sns.heatmap(cm,cmap= \"Blues\", linecolor = 'black' , linewidth = 1 , annot = True, fmt='')"
   ]
  },
  {
   "cell_type": "code",
   "execution_count": null,
   "id": "773dcb24",
   "metadata": {},
   "outputs": [],
   "source": [
    "converter = tf.lite.TFLiteConverter.from_keras_model(model)\n",
    "tflite_model = converter.convert()\n",
    "\n",
    "# Save the model.\n",
    "with open('ham10k_cnn.tflite', 'wb') as f:\n",
    "  f.write(tflite_model)"
   ]
  }
 ],
 "metadata": {
  "kernelspec": {
   "display_name": "Python 3",
   "language": "python",
   "name": "python3"
  },
  "language_info": {
   "codemirror_mode": {
    "name": "ipython",
    "version": 3
   },
   "file_extension": ".py",
   "mimetype": "text/x-python",
   "name": "python",
   "nbconvert_exporter": "python",
   "pygments_lexer": "ipython3",
   "version": "3.7.11"
  }
 },
 "nbformat": 4,
 "nbformat_minor": 5
}
