{
 "cells": [
  {
   "cell_type": "code",
   "execution_count": 1,
   "id": "0f41935d",
   "metadata": {},
   "outputs": [
    {
     "name": "stderr",
     "output_type": "stream",
     "text": [
      "C:\\ProgramData\\Anaconda3\\envs\\tf2\\lib\\site-packages\\tensorflow_addons\\utils\\ensure_tf_install.py:67: UserWarning: Tensorflow Addons supports using Python ops for all Tensorflow versions above or equal to 2.3.0 and strictly below 2.6.0 (nightly versions are not supported). \n",
      " The versions of TensorFlow you are currently using is 2.7.0 and is not supported. \n",
      "Some things might work, some things might not.\n",
      "If you were to encounter a bug, do not file an issue.\n",
      "If you want to make sure you're using a tested and supported configuration, either change the TensorFlow version or the TensorFlow Addons's version. \n",
      "You can find the compatibility matrix in TensorFlow Addon's readme:\n",
      "https://github.com/tensorflow/addons\n",
      "  UserWarning,\n"
     ]
    }
   ],
   "source": [
    "import numpy as np # linear algebra\n",
    "import pandas as pd # data processing, CSV file I/O (e.g. pd.read_csv)\n",
    "import shutil\n",
    "import cv2\n",
    "from tqdm import tqdm          \n",
    "from random import shuffle\n",
    "from zipfile import ZipFile\n",
    "import glob\n",
    "import matplotlib.pyplot as plt\n",
    "%matplotlib inline\n",
    "\n",
    "from sklearn.model_selection import train_test_split\n",
    "\n",
    "import tensorflow as tf\n",
    "\n",
    "from IPython.core.interactiveshell import InteractiveShell\n",
    "InteractiveShell.ast_node_interactivity = \"all\"\n",
    "\n",
    "import os\n",
    "\n",
    "from tflite_model_maker import image_classifier\n",
    "from tflite_model_maker.image_classifier import DataLoader\n",
    "from tflite_model_maker import model_spec\n",
    "from tflite_model_maker.config import ExportFormat\n",
    "from tflite_model_maker.config import QuantizationConfig\n",
    "\n"
   ]
  },
  {
   "cell_type": "code",
   "execution_count": 2,
   "id": "1054b40c",
   "metadata": {},
   "outputs": [
    {
     "name": "stdout",
     "output_type": "stream",
     "text": [
      "INFO:tensorflow:Load image with size: 10015, num_label: 7, labels: Bowens_disease, basal_cell_carcinoma, benign_keratoses, dermatofibroma, melanocytic_nevi, melanoma, vascular_lesions.\n"
     ]
    }
   ],
   "source": [
    "data = DataLoader.from_folder('./train/')"
   ]
  },
  {
   "cell_type": "code",
   "execution_count": 3,
   "id": "ebfa4b58",
   "metadata": {},
   "outputs": [],
   "source": [
    "train_data, test_data = data.split(0.7)"
   ]
  },
  {
   "cell_type": "code",
   "execution_count": 4,
   "id": "a10bf2ea",
   "metadata": {},
   "outputs": [],
   "source": [
    "from tflite_model_maker.image_classifier import Resnet50Spec\n",
    "resnet_spec = Resnet50Spec(\n",
    "    uri='https://tfhub.dev/google/imagenet/resnet_v2_50/feature_vector/4',\n",
    "    compat_tf_versions=2, input_image_shape=None, name='resnet_50'\n",
    ")"
   ]
  },
  {
   "cell_type": "code",
   "execution_count": 7,
   "id": "1b302223",
   "metadata": {},
   "outputs": [
    {
     "name": "stdout",
     "output_type": "stream",
     "text": [
      "INFO:tensorflow:Retraining the models...\n"
     ]
    },
    {
     "name": "stderr",
     "output_type": "stream",
     "text": [
      "INFO:tensorflow:Retraining the models...\n"
     ]
    },
    {
     "name": "stdout",
     "output_type": "stream",
     "text": [
      "Model: \"sequential_2\"\n",
      "_________________________________________________________________\n",
      " Layer (type)                Output Shape              Param #   \n",
      "=================================================================\n",
      " hub_keras_layer_v1v2_2 (Hub  (None, 2048)             23564800  \n",
      " KerasLayerV1V2)                                                 \n",
      "                                                                 \n",
      " dropout_2 (Dropout)         (None, 2048)              0         \n",
      "                                                                 \n",
      " dense_2 (Dense)             (None, 7)                 14343     \n",
      "                                                                 \n",
      "=================================================================\n",
      "Total params: 23,579,143\n",
      "Trainable params: 14,343\n",
      "Non-trainable params: 23,564,800\n",
      "_________________________________________________________________\n",
      "None\n",
      "Epoch 1/20\n",
      "219/219 [==============================] - 264s 1s/step - loss: 1.5091 - accuracy: 0.6426 - val_loss: 1.3113 - val_accuracy: 0.6912\n",
      "Epoch 2/20\n",
      "219/219 [==============================] - 261s 1s/step - loss: 1.2646 - accuracy: 0.6899 - val_loss: 1.2968 - val_accuracy: 0.7026\n",
      "Epoch 3/20\n",
      "219/219 [==============================] - 261s 1s/step - loss: 1.2372 - accuracy: 0.7029 - val_loss: 1.1949 - val_accuracy: 0.7201\n",
      "Epoch 4/20\n",
      "219/219 [==============================] - 261s 1s/step - loss: 1.1712 - accuracy: 0.7197 - val_loss: 1.2232 - val_accuracy: 0.7184\n",
      "Epoch 5/20\n",
      "219/219 [==============================] - 261s 1s/step - loss: 1.2001 - accuracy: 0.7099 - val_loss: 1.2646 - val_accuracy: 0.7137\n",
      "Epoch 6/20\n",
      "219/219 [==============================] - 261s 1s/step - loss: 1.1757 - accuracy: 0.7193 - val_loss: 1.3024 - val_accuracy: 0.7073\n",
      "Epoch 7/20\n",
      "219/219 [==============================] - 261s 1s/step - loss: 1.1559 - accuracy: 0.7237 - val_loss: 1.1439 - val_accuracy: 0.7288\n",
      "Epoch 8/20\n",
      "219/219 [==============================] - 261s 1s/step - loss: 1.1676 - accuracy: 0.7255 - val_loss: 1.1416 - val_accuracy: 0.7157\n",
      "Epoch 9/20\n",
      "219/219 [==============================] - 261s 1s/step - loss: 1.2087 - accuracy: 0.7210 - val_loss: 1.1893 - val_accuracy: 0.7261\n",
      "Epoch 10/20\n",
      "219/219 [==============================] - 261s 1s/step - loss: 1.1368 - accuracy: 0.7312 - val_loss: 1.1790 - val_accuracy: 0.7268\n",
      "Epoch 11/20\n",
      "219/219 [==============================] - 261s 1s/step - loss: 1.1499 - accuracy: 0.7394 - val_loss: 1.3736 - val_accuracy: 0.7151\n",
      "Epoch 12/20\n",
      "219/219 [==============================] - 261s 1s/step - loss: 1.1463 - accuracy: 0.7362 - val_loss: 1.2046 - val_accuracy: 0.7292\n",
      "Epoch 13/20\n",
      "219/219 [==============================] - 261s 1s/step - loss: 1.1618 - accuracy: 0.7286 - val_loss: 1.1368 - val_accuracy: 0.7369\n",
      "Epoch 14/20\n",
      "219/219 [==============================] - 261s 1s/step - loss: 1.1146 - accuracy: 0.7447 - val_loss: 1.5974 - val_accuracy: 0.7083\n",
      "Epoch 15/20\n",
      "219/219 [==============================] - 261s 1s/step - loss: 1.1371 - accuracy: 0.7426 - val_loss: 1.2348 - val_accuracy: 0.7188\n",
      "Epoch 16/20\n",
      "219/219 [==============================] - 261s 1s/step - loss: 1.1272 - accuracy: 0.7363 - val_loss: 1.3507 - val_accuracy: 0.6082\n",
      "Epoch 17/20\n",
      "219/219 [==============================] - 262s 1s/step - loss: 1.1448 - accuracy: 0.7449 - val_loss: 1.1256 - val_accuracy: 0.7349\n",
      "Epoch 18/20\n",
      "219/219 [==============================] - 262s 1s/step - loss: 1.1123 - accuracy: 0.7444 - val_loss: 1.1832 - val_accuracy: 0.7339\n",
      "Epoch 19/20\n",
      "219/219 [==============================] - 261s 1s/step - loss: 1.1076 - accuracy: 0.7483 - val_loss: 1.0960 - val_accuracy: 0.7392\n",
      "Epoch 20/20\n",
      "219/219 [==============================] - 262s 1s/step - loss: 1.1343 - accuracy: 0.7420 - val_loss: 1.2295 - val_accuracy: 0.7221\n"
     ]
    }
   ],
   "source": [
    "model = image_classifier.create(train_data,\n",
    "                                validation_data = test_data,\n",
    "                                model_spec=resnet_spec,\n",
    "                                epochs = 20,\n",
    "                                shuffle=True)"
   ]
  },
  {
   "cell_type": "code",
   "execution_count": 8,
   "id": "640ab56f",
   "metadata": {},
   "outputs": [
    {
     "name": "stdout",
     "output_type": "stream",
     "text": [
      "INFO:tensorflow:Assets written to: C:\\Users\\Tau\\AppData\\Local\\Temp\\tmps9x3j4z0\\assets\n"
     ]
    },
    {
     "name": "stderr",
     "output_type": "stream",
     "text": [
      "INFO:tensorflow:Assets written to: C:\\Users\\Tau\\AppData\\Local\\Temp\\tmps9x3j4z0\\assets\n"
     ]
    },
    {
     "name": "stdout",
     "output_type": "stream",
     "text": [
      "INFO:tensorflow:Label file is inside the TFLite model with metadata.\n"
     ]
    },
    {
     "name": "stderr",
     "output_type": "stream",
     "text": [
      "INFO:tensorflow:Label file is inside the TFLite model with metadata.\n"
     ]
    },
    {
     "name": "stdout",
     "output_type": "stream",
     "text": [
      "INFO:tensorflow:Saving labels in C:\\Users\\Tau\\AppData\\Local\\Temp\\tmptcs72gw7\\labels.txt\n"
     ]
    },
    {
     "name": "stderr",
     "output_type": "stream",
     "text": [
      "INFO:tensorflow:Saving labels in C:\\Users\\Tau\\AppData\\Local\\Temp\\tmptcs72gw7\\labels.txt\n"
     ]
    },
    {
     "name": "stdout",
     "output_type": "stream",
     "text": [
      "INFO:tensorflow:TensorFlow Lite model exported successfully: ./resnet_20epochs.tflite\n"
     ]
    },
    {
     "name": "stderr",
     "output_type": "stream",
     "text": [
      "INFO:tensorflow:TensorFlow Lite model exported successfully: ./resnet_20epochs.tflite\n"
     ]
    }
   ],
   "source": [
    "model.export(export_dir='./',\n",
    "             tflite_filename='resnet_20epochs.tflite', \n",
    "             quantization_config=QuantizationConfig.for_float16())"
   ]
  },
  {
   "cell_type": "code",
   "execution_count": 9,
   "id": "b67b0b79",
   "metadata": {},
   "outputs": [
    {
     "name": "stdout",
     "output_type": "stream",
     "text": [
      "94/94 [==============================] - 81s 823ms/step - loss: 1.2271 - accuracy: 0.7225\n"
     ]
    }
   ],
   "source": [
    "loss, accuracy = model.evaluate(test_data)"
   ]
  },
  {
   "cell_type": "code",
   "execution_count": null,
   "id": "976dbb4f",
   "metadata": {},
   "outputs": [],
   "source": []
  }
 ],
 "metadata": {
  "kernelspec": {
   "display_name": "Python 3",
   "language": "python",
   "name": "python3"
  },
  "language_info": {
   "codemirror_mode": {
    "name": "ipython",
    "version": 3
   },
   "file_extension": ".py",
   "mimetype": "text/x-python",
   "name": "python",
   "nbconvert_exporter": "python",
   "pygments_lexer": "ipython3",
   "version": "3.7.11"
  }
 },
 "nbformat": 4,
 "nbformat_minor": 5
}
